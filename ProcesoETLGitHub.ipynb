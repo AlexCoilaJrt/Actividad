{
  "nbformat": 4,
  "nbformat_minor": 0,
  "metadata": {
    "colab": {
      "provenance": [],
      "authorship_tag": "ABX9TyPdGuWlq9fHFadM2wI4bGlc",
      "include_colab_link": true
    },
    "kernelspec": {
      "name": "python3",
      "display_name": "Python 3"
    },
    "language_info": {
      "name": "python"
    }
  },
  "cells": [
    {
      "cell_type": "markdown",
      "metadata": {
        "id": "view-in-github",
        "colab_type": "text"
      },
      "source": [
        "<a href=\"https://colab.research.google.com/github/AlexCoilaJrt/Actividad/blob/main/ProcesoETLGitHub.ipynb\" target=\"_parent\"><img src=\"https://colab.research.google.com/assets/colab-badge.svg\" alt=\"Open In Colab\"/></a>"
      ]
    },
    {
      "cell_type": "markdown",
      "source": [
        "# ***Informe detallado de un proceso ETL***"
      ],
      "metadata": {
        "id": "z0We0B6K9EpJ"
      }
    },
    {
      "cell_type": "markdown",
      "source": [
        "El presente análisis se basa en un dataset obtenido de repositorios públicos de GitHub, el cual contiene información relevante sobre distintos proyectos de software. La base de datos incluye variables relacionadas con la identificación del repositorio (nombre, descripción, URL), su actividad temporal (fechas de creación y última actualización), métricas de popularidad (estrellas, forks, watchers), características técnicas (lenguaje de programación, tamaño, licencia, tópicos asociados) y diversos indicadores booleanos sobre las funcionalidades habilitadas en cada proyecto.\n",
        "\n",
        "Este conjunto de datos resulta valioso porque permite explorar patrones sobre el uso de lenguajes de programación, tendencias en licencias de software, evolución temporal de los repositorios y la relación entre popularidad y características técnicas. Además, su estructura variada lo convierte en un buen candidato para aplicar un proceso ETL (Extracción, Transformación y Carga), ya que requiere limpieza, normalización y modelado antes de integrarse en un sistema de análisis o un data warehouse.\n",
        "\n",
        "link: https://www.kaggle.com/datasets/donbarbos/github-repos"
      ],
      "metadata": {
        "id": "xGMW19OSVULF"
      }
    },
    {
      "cell_type": "markdown",
      "source": [
        "# ============================================================================\n",
        "# EXPLORACIÓN INICIAL DATASET GITHUB - PASOS SEPARADOS\n",
        "# ============================================================================\n"
      ],
      "metadata": {
        "id": "4_zXb_aRvAfw"
      }
    },
    {
      "cell_type": "code",
      "source": [
        "import pandas as pd\n",
        "import numpy as np\n",
        "import datetime as dt\n",
        "import re\n",
        "from datetime import datetime"
      ],
      "metadata": {
        "id": "TI0JRtWCtCNi"
      },
      "execution_count": 15,
      "outputs": []
    },
    {
      "cell_type": "markdown",
      "source": [
        "## ***EXTRACCIÓN***"
      ],
      "metadata": {
        "id": "gohnWVfBxk7G"
      }
    },
    {
      "cell_type": "code",
      "source": [
        "# ============================================================================\n",
        "# CELDA 2: VERIFICAR DIMENSIONES\n",
        "# ============================================================================\n",
        "# Cargar muestra pequeña primero\n",
        "df = pd.read_csv('/content/repositories.csv')\n",
        "print(f\"Total filas y columnas: {df.shape}\")\n"
      ],
      "metadata": {
        "colab": {
          "base_uri": "https://localhost:8080/"
        },
        "id": "7Tk2Puy3tIZQ",
        "outputId": "af616982-66fb-439c-d12e-409407b39649"
      },
      "execution_count": 28,
      "outputs": [
        {
          "output_type": "stream",
          "name": "stdout",
          "text": [
            "Total filas y columnas: (215029, 24)\n"
          ]
        }
      ]
    },
    {
      "cell_type": "code",
      "source": [
        "# Tamaño en memoria\n",
        "tamaño_mb = df.memory_usage(deep=True).sum() / 1024**2\n",
        "print(f\"Tamaño en memoria: {tamaño_mb:.2f} MB\")"
      ],
      "metadata": {
        "colab": {
          "base_uri": "https://localhost:8080/"
        },
        "id": "wuoOXMCVvWdx",
        "outputId": "bd4b947a-e13a-44ab-cece-5f851f55ac95"
      },
      "execution_count": 29,
      "outputs": [
        {
          "output_type": "stream",
          "name": "stdout",
          "text": [
            "Tamaño en memoria: 160.35 MB\n"
          ]
        }
      ]
    },
    {
      "cell_type": "code",
      "source": [
        "# ============================================================================\n",
        "# CELDA 3: EXPLORAR NOMBRES DE COLUMNAS\n",
        "# ============================================================================\n",
        "print(\"EXPLORACIÓN DE COLUMNAS - NOMBRES\")\n",
        "print(\"=\"*40)\n",
        "\n",
        "print(f\"Lista completa de columnas ({len(df.columns)}):\")\n",
        "for i, columna in enumerate(df.columns, 1):\n",
        "    print(f\"{i:2d}. '{columna}'\")\n",
        "\n",
        "# Verificar si hay nombres extraños\n",
        "print(f\"\\nCaracterísticas de los nombres:\")\n",
        "print(f\"- Columnas con espacios: {sum(1 for col in df.columns if ' ' in col)}\")\n",
        "print(f\"- Columnas con mayúsculas: {sum(1 for col in df.columns if col != col.lower())}\")\n",
        "print(f\"- Columnas con caracteres especiales: {sum(1 for col in df.columns if not col.replace(' ', '').replace('_', '').isalnum())}\")\n"
      ],
      "metadata": {
        "colab": {
          "base_uri": "https://localhost:8080/"
        },
        "id": "sSKz1ohmvpva",
        "outputId": "2410a26c-f149-4043-e9cf-efeb007e63b2"
      },
      "execution_count": 33,
      "outputs": [
        {
          "output_type": "stream",
          "name": "stdout",
          "text": [
            "EXPLORACIÓN DE COLUMNAS - NOMBRES\n",
            "========================================\n",
            "Lista completa de columnas (24):\n",
            " 1. 'Name'\n",
            " 2. 'Description'\n",
            " 3. 'URL'\n",
            " 4. 'Created At'\n",
            " 5. 'Updated At'\n",
            " 6. 'Homepage'\n",
            " 7. 'Size'\n",
            " 8. 'Stars'\n",
            " 9. 'Forks'\n",
            "10. 'Issues'\n",
            "11. 'Watchers'\n",
            "12. 'Language'\n",
            "13. 'License'\n",
            "14. 'Topics'\n",
            "15. 'Has Issues'\n",
            "16. 'Has Projects'\n",
            "17. 'Has Downloads'\n",
            "18. 'Has Wiki'\n",
            "19. 'Has Pages'\n",
            "20. 'Has Discussions'\n",
            "21. 'Is Fork'\n",
            "22. 'Is Archived'\n",
            "23. 'Is Template'\n",
            "24. 'Default Branch'\n",
            "\n",
            "Características de los nombres:\n",
            "- Columnas con espacios: 12\n",
            "- Columnas con mayúsculas: 24\n",
            "- Columnas con caracteres especiales: 0\n"
          ]
        }
      ]
    },
    {
      "cell_type": "code",
      "source": [
        "# ============================================================================\n",
        "# CELDA 4: EXPLORAR TIPOS DE DATOS\n",
        "# ============================================================================\n",
        "# Tipos de datos\n",
        "print(f\"\\nTipos de datos:\")\n",
        "print(df_sample.dtypes)"
      ],
      "metadata": {
        "colab": {
          "base_uri": "https://localhost:8080/"
        },
        "id": "QCgjkEt8tmEp",
        "outputId": "2ec8b63a-abe4-4cbc-e36c-cff11466f2e1"
      },
      "execution_count": 35,
      "outputs": [
        {
          "output_type": "stream",
          "name": "stdout",
          "text": [
            "\n",
            "Tipos de datos:\n",
            "Name               object\n",
            "Description        object\n",
            "URL                object\n",
            "Created At         object\n",
            "Updated At         object\n",
            "Homepage           object\n",
            "Size                int64\n",
            "Stars               int64\n",
            "Forks               int64\n",
            "Issues              int64\n",
            "Watchers            int64\n",
            "Language           object\n",
            "License            object\n",
            "Topics             object\n",
            "Has Issues           bool\n",
            "Has Projects         bool\n",
            "Has Downloads        bool\n",
            "Has Wiki             bool\n",
            "Has Pages            bool\n",
            "Has Discussions      bool\n",
            "Is Fork              bool\n",
            "Is Archived          bool\n",
            "Is Template          bool\n",
            "Default Branch     object\n",
            "dtype: object\n"
          ]
        }
      ]
    },
    {
      "cell_type": "code",
      "source": [
        "# Resumen de tipos\n",
        "print(f\"\\nResumen de tipos de datos:\")\n",
        "tipos_resumen = df.dtypes.value_counts()\n",
        "for tipo, cantidad in tipos_resumen.items():\n",
        "    print(f\"  {str(tipo):<15}: {cantidad} columnas\")\n"
      ],
      "metadata": {
        "colab": {
          "base_uri": "https://localhost:8080/"
        },
        "id": "xT4QsDdjv5Yd",
        "outputId": "8643e2f7-9342-497f-cb56-a5d5fa8e8e19"
      },
      "execution_count": 36,
      "outputs": [
        {
          "output_type": "stream",
          "name": "stdout",
          "text": [
            "\n",
            "Resumen de tipos de datos:\n",
            "  object         : 10 columnas\n",
            "  bool           : 9 columnas\n",
            "  int64          : 5 columnas\n"
          ]
        }
      ]
    },
    {
      "cell_type": "code",
      "source": [
        "# Identificar posibles problemas de tipos\n",
        "print(f\"\\nDetección de problemas potenciales:\")\n",
        "\n",
        "# Columnas que deberían ser numéricas pero son object\n",
        "numericas_candidatas = ['Size', 'Stars', 'Forks', 'Issues', 'Watchers']\n",
        "for col in numericas_candidatas:\n",
        "    if col in df.columns and df[col].dtype == 'object':\n",
        "        print(f\"  - '{col}' es object pero debería ser numérica\")\n",
        "\n",
        "# Columnas que deberían ser fechas pero son object\n",
        "fechas_candidatas = ['Created At', 'Updated At']\n",
        "for col in fechas_candidatas:\n",
        "    if col in df.columns and df[col].dtype == 'object':\n",
        "        print(f\"  - '{col}' es object pero debería ser datetime\")"
      ],
      "metadata": {
        "colab": {
          "base_uri": "https://localhost:8080/"
        },
        "id": "4puqRMtxwRCu",
        "outputId": "269a3fb5-1adb-44fc-ac4c-88b0c4eda6f2"
      },
      "execution_count": 40,
      "outputs": [
        {
          "output_type": "stream",
          "name": "stdout",
          "text": [
            "\n",
            "Detección de problemas potenciales:\n",
            "  - 'Created At' es object pero debería ser datetime\n",
            "  - 'Updated At' es object pero debería ser datetime\n"
          ]
        }
      ]
    },
    {
      "cell_type": "code",
      "source": [
        "# Primeras filas\n",
        "print(f\"\\nPrimeras 3 filas:\")\n",
        "print(df_sample.head(3))"
      ],
      "metadata": {
        "colab": {
          "base_uri": "https://localhost:8080/"
        },
        "id": "DE3saiOctqCG",
        "outputId": "040f3149-94f9-43b6-97f7-d2fb3cc2a21f"
      },
      "execution_count": 21,
      "outputs": [
        {
          "output_type": "stream",
          "name": "stdout",
          "text": [
            "\n",
            "Primeras 3 filas:\n",
            "                     Name                                        Description                                                URL            Created At            Updated At                                           Homepage    Size   Stars  Forks  Issues  Watchers    Language       License                                             Topics  Has Issues  Has Projects  Has Downloads  Has Wiki  Has Pages  Has Discussions  Is Fork  Is Archived  Is Template Default Branch\n",
            "0            freeCodeCamp  freeCodeCamp.org's open-source codebase and cu...       https://github.com/freeCodeCamp/freeCodeCamp  2014-12-24T17:49:19Z  2023-09-21T11:32:33Z                http://contribute.freecodecamp.org/  387451  374074  33599     248    374074  TypeScript  BSD-3-Clause  ['careers', 'certification', 'community', 'cur...        True          True           True     False       True            False    False        False        False           main\n",
            "1  free-programming-books         :books: Freely available programming books  https://github.com/EbookFoundation/free-progra...  2013-10-11T06:50:37Z  2023-09-21T11:09:25Z  https://ebookfoundation.github.io/free-program...   17087  298393  57194      46    298393         NaN     CC-BY-4.0  ['books', 'education', 'hacktoberfest', 'list'...        True         False           True     False       True            False    False        False        False           main\n",
            "2                 awesome  😎 Awesome lists about all kinds of interesting...            https://github.com/sindresorhus/awesome  2014-07-11T13:42:37Z  2023-09-21T11:18:22Z                                                NaN    1441  269997  26485      61    269997         NaN       CC0-1.0  ['awesome', 'awesome-list', 'lists', 'resource...        True         False           True     False       True            False    False        False        False           main\n"
          ]
        }
      ]
    },
    {
      "cell_type": "code",
      "source": [
        "# ============================================================================\n",
        "# CELDA 5: DETECTAR VALORES NULOS\n",
        "# ============================================================================\n",
        "print(\"DETECCIÓN DE VALORES NULOS\")\n",
        "print(\"=\"*40)\n",
        "\n",
        "# Contar valores nulos por columna\n",
        "valores_nulos = df.isnull().sum()\n",
        "total_nulos = valores_nulos.sum()\n",
        "\n",
        "print(f\"Total de valores nulos en el dataset: {total_nulos:,}\")\n",
        "print(f\"Porcentaje de valores nulos: {(total_nulos / (df.shape[0] * df.shape[1]) * 100):.2f}%\")\n",
        "\n",
        "print(f\"\\nValores nulos por columna:\")\n",
        "for columna in df.columns:\n",
        "    nulos = valores_nulos[columna]\n",
        "    porcentaje = (nulos / len(df)) * 100\n",
        "    if nulos > 0:\n",
        "        print(f\"  {columna:<20}: {nulos:>8,} ({porcentaje:5.2f}%)\")\n",
        "    else:\n",
        "        print(f\"  {columna:<20}: {nulos:>8,} (0.00%)\")\n"
      ],
      "metadata": {
        "colab": {
          "base_uri": "https://localhost:8080/"
        },
        "id": "1AYxNjRqwkA3",
        "outputId": "1ec0a0f2-aac8-4a53-f1d6-f6e6cce70d7d"
      },
      "execution_count": 41,
      "outputs": [
        {
          "output_type": "stream",
          "name": "stdout",
          "text": [
            "DETECCIÓN DE VALORES NULOS\n",
            "========================================\n",
            "Total de valores nulos en el dataset: 213,788\n",
            "Porcentaje de valores nulos: 4.14%\n",
            "\n",
            "Valores nulos por columna:\n",
            "  Name                :        2 ( 0.00%)\n",
            "  Description         :    8,032 ( 3.74%)\n",
            "  URL                 :        0 (0.00%)\n",
            "  Created At          :        0 (0.00%)\n",
            "  Updated At          :        0 (0.00%)\n",
            "  Homepage            :  136,639 (63.54%)\n",
            "  Size                :        0 (0.00%)\n",
            "  Stars               :        0 (0.00%)\n",
            "  Forks               :        0 (0.00%)\n",
            "  Issues              :        0 (0.00%)\n",
            "  Watchers            :        0 (0.00%)\n",
            "  Language            :   16,076 ( 7.48%)\n",
            "  License             :   53,039 (24.67%)\n",
            "  Topics              :        0 (0.00%)\n",
            "  Has Issues          :        0 (0.00%)\n",
            "  Has Projects        :        0 (0.00%)\n",
            "  Has Downloads       :        0 (0.00%)\n",
            "  Has Wiki            :        0 (0.00%)\n",
            "  Has Pages           :        0 (0.00%)\n",
            "  Has Discussions     :        0 (0.00%)\n",
            "  Is Fork             :        0 (0.00%)\n",
            "  Is Archived         :        0 (0.00%)\n",
            "  Is Template         :        0 (0.00%)\n",
            "  Default Branch      :        0 (0.00%)\n"
          ]
        }
      ]
    },
    {
      "cell_type": "code",
      "source": [
        "# Columnas con más problemas de nulos\n",
        "print(f\"\\nColumnas con más del 10% de valores nulos:\")\n",
        "problematicas = valores_nulos[valores_nulos > len(df) * 0.1]\n",
        "if len(problematicas) > 0:\n",
        "    for col, nulos in problematicas.items():\n",
        "        porcentaje = (nulos / len(df)) * 100\n",
        "        print(f\"  {col}: {porcentaje:.2f}% nulos\")\n",
        "else:\n",
        "    print(\"  Ninguna columna tiene más del 10% de valores nulos\")"
      ],
      "metadata": {
        "colab": {
          "base_uri": "https://localhost:8080/"
        },
        "id": "jHcUYczhwmqO",
        "outputId": "7eaf3367-5d5f-4f94-a004-6e6d3f736941"
      },
      "execution_count": 42,
      "outputs": [
        {
          "output_type": "stream",
          "name": "stdout",
          "text": [
            "\n",
            "Columnas con más del 10% de valores nulos:\n",
            "  Homepage: 63.54% nulos\n",
            "  License: 24.67% nulos\n"
          ]
        }
      ]
    },
    {
      "cell_type": "code",
      "source": [
        "# ============================================================================\n",
        "# CELDA 6: DETECTAR COLUMNAS REPETIDAS\n",
        "# ============================================================================\n",
        "print(\"DETECCIÓN DE COLUMNAS REPETIDAS\")\n",
        "print(\"=\"*40)\n",
        "\n",
        "# Verificar nombres de columnas duplicados\n",
        "nombres_duplicados = df.columns[df.columns.duplicated()].tolist()\n",
        "if nombres_duplicados:\n",
        "    print(f\"Columnas con nombres duplicados: {nombres_duplicados}\")\n",
        "else:\n",
        "    print(\"No hay columnas con nombres duplicados\")\n",
        "\n",
        "# Verificar contenido duplicado entre columnas\n",
        "print(f\"\\nVerificando contenido similar entre columnas...\")\n",
        "columnas_similares = []\n",
        "\n",
        "for i, col1 in enumerate(df.columns):\n",
        "    for col2 in df.columns[i+1:]:\n",
        "        if df[col1].equals(df[col2]):\n",
        "            columnas_similares.append((col1, col2))\n",
        "\n",
        "if columnas_similares:\n",
        "    print(\"Columnas con contenido idéntico:\")\n",
        "    for col1, col2 in columnas_similares:\n",
        "        print(f\"  '{col1}' es idéntica a '{col2}'\")\n",
        "else:\n",
        "    print(\"No hay columnas con contenido idéntico\")"
      ],
      "metadata": {
        "colab": {
          "base_uri": "https://localhost:8080/"
        },
        "id": "pEqN6nrlwpzu",
        "outputId": "8e686ba4-089d-4f7c-bec5-53dcfd35f60d"
      },
      "execution_count": 43,
      "outputs": [
        {
          "output_type": "stream",
          "name": "stdout",
          "text": [
            "DETECCIÓN DE COLUMNAS REPETIDAS\n",
            "========================================\n",
            "No hay columnas con nombres duplicados\n",
            "\n",
            "Verificando contenido similar entre columnas...\n",
            "Columnas con contenido idéntico:\n",
            "  'Stars' es idéntica a 'Watchers'\n"
          ]
        }
      ]
    },
    {
      "cell_type": "code",
      "source": [
        "# ============================================================================\n",
        "# CELDA 7: DETECTAR DATOS INCONSISTENTES\n",
        "# ============================================================================\n",
        "print(\"DETECCIÓN DE DATOS INCONSISTENTES\")\n",
        "print(\"=\"*40)\n",
        "\n",
        "# Verificar fechas en formato texto\n",
        "print(\"Verificando formato de fechas:\")\n",
        "fechas_candidatas = ['Created At', 'Updated At']\n",
        "for col in fechas_candidatas:\n",
        "    if col in df.columns:\n",
        "        # Mostrar algunos ejemplos\n",
        "        ejemplos = df[col].dropna().head(5).tolist()\n",
        "        print(f\"  {col} - Ejemplos: {ejemplos}\")\n",
        "\n",
        "        # Verificar si se puede convertir a datetime\n",
        "        try:\n",
        "            pd.to_datetime(df[col].head(100))\n",
        "            print(f\"    ✓ Se puede convertir a datetime\")\n",
        "        except:\n",
        "            print(f\"    ✗ No se puede convertir fácilmente a datetime\")\n",
        "\n",
        "# Verificar números como string\n",
        "print(f\"\\nVerificando números almacenados como texto:\")\n",
        "numericas_candidatas = ['Size', 'Stars', 'Forks', 'Issues', 'Watchers']\n",
        "for col in numericas_candidatas:\n",
        "    if col in df.columns:\n",
        "        tipo_actual = df[col].dtype\n",
        "        ejemplos = df[col].dropna().head(5).tolist()\n",
        "        print(f\"  {col} ({tipo_actual}) - Ejemplos: {ejemplos}\")\n",
        "\n",
        "        if tipo_actual == 'object':\n",
        "            # Verificar si contiene solo números\n",
        "            muestra = df[col].dropna().head(100)\n",
        "            try:\n",
        "                pd.to_numeric(muestra)\n",
        "                print(f\"    ✓ Se puede convertir a numérico\")\n",
        "            except:\n",
        "                print(f\"    ✗ Contiene valores no numéricos\")\n",
        "\n",
        "# Verificar valores booleanos inconsistentes\n",
        "print(f\"\\nVerificando valores booleanos:\")\n",
        "booleanas_candidatas = ['Has Issues', 'Has Projects', 'Has Downloads', 'Has Wiki',\n",
        "                       'Has Pages', 'Has Discussions', 'Is Fork', 'Is Archived', 'Is Template']\n",
        "for col in booleanas_candidatas:\n",
        "    if col in df.columns:\n",
        "        valores_unicos = df[col].value_counts()\n",
        "        print(f\"  {col}: {valores_unicos.index.tolist()}\")\n"
      ],
      "metadata": {
        "colab": {
          "base_uri": "https://localhost:8080/"
        },
        "id": "Y8DrYLVBwxc4",
        "outputId": "bed42a1d-1514-4ae4-d43e-26bf9c653d9e"
      },
      "execution_count": 44,
      "outputs": [
        {
          "output_type": "stream",
          "name": "stdout",
          "text": [
            "DETECCIÓN DE DATOS INCONSISTENTES\n",
            "========================================\n",
            "Verificando formato de fechas:\n",
            "  Created At - Ejemplos: ['2014-12-24T17:49:19Z', '2013-10-11T06:50:37Z', '2014-07-11T13:42:37Z', '2019-03-26T07:31:14Z', '2016-06-06T02:34:12Z']\n",
            "    ✓ Se puede convertir a datetime\n",
            "  Updated At - Ejemplos: ['2023-09-21T11:32:33Z', '2023-09-21T11:09:25Z', '2023-09-21T11:18:22Z', '2023-09-21T08:09:01Z', '2023-09-21T10:54:48Z']\n",
            "    ✓ Se puede convertir a datetime\n",
            "\n",
            "Verificando números almacenados como texto:\n",
            "  Size (int64) - Ejemplos: [387451, 17087, 1441, 187799, 20998]\n",
            "  Stars (int64) - Ejemplos: [374074, 298393, 269997, 267901, 265161]\n",
            "  Forks (int64) - Ejemplos: [33599, 57194, 26485, 21497, 69434]\n",
            "  Issues (int64) - Ejemplos: [248, 46, 61, 16712, 56]\n",
            "  Watchers (int64) - Ejemplos: [374074, 298393, 269997, 267901, 265161]\n",
            "\n",
            "Verificando valores booleanos:\n",
            "  Has Issues: [True, False]\n",
            "  Has Projects: [True, False]\n",
            "  Has Downloads: [True, False]\n",
            "  Has Wiki: [True, False]\n",
            "  Has Pages: [False, True]\n",
            "  Has Discussions: [False, True]\n",
            "  Is Fork: [False]\n",
            "  Is Archived: [False, True]\n",
            "  Is Template: [False, True]\n"
          ]
        }
      ]
    },
    {
      "cell_type": "code",
      "source": [
        "# ============================================================================\n",
        "# CELDA 8: MUESTRA DE DATOS PARA REVISIÓN MANUAL\n",
        "# ============================================================================\n",
        "print(\"MUESTRA DE DATOS PARA REVISIÓN\")\n",
        "print(\"=\"*40)\n",
        "\n",
        "print(\"Primeras 3 filas del dataset:\")\n",
        "print(df.head(3).to_string())\n",
        "\n",
        "print(f\"\\nÚltimas 3 filas del dataset:\")\n",
        "print(df.tail(3).to_string())\n",
        "\n",
        "print(f\"\\n3 filas aleatorias:\")\n",
        "muestra_aleatoria = df.sample(3, random_state=42)\n",
        "print(muestra_aleatoria.to_string())"
      ],
      "metadata": {
        "colab": {
          "base_uri": "https://localhost:8080/"
        },
        "id": "yS1Zn4HWw69u",
        "outputId": "1df42856-67b8-41d5-b2f6-e267a6ce1ffb"
      },
      "execution_count": 45,
      "outputs": [
        {
          "output_type": "stream",
          "name": "stdout",
          "text": [
            "MUESTRA DE DATOS PARA REVISIÓN\n",
            "========================================\n",
            "Primeras 3 filas del dataset:\n",
            "                     Name                                                                      Description                                                        URL            Created At            Updated At                                                   Homepage    Size   Stars  Forks  Issues  Watchers    Language       License                                                                                                                                                                                                          Topics  Has Issues  Has Projects  Has Downloads  Has Wiki  Has Pages  Has Discussions  Is Fork  Is Archived  Is Template Default Branch\n",
            "0            freeCodeCamp  freeCodeCamp.org's open-source codebase and curriculum. Learn to code for free.               https://github.com/freeCodeCamp/freeCodeCamp  2014-12-24T17:49:19Z  2023-09-21T11:32:33Z                        http://contribute.freecodecamp.org/  387451  374074  33599     248    374074  TypeScript  BSD-3-Clause  ['careers', 'certification', 'community', 'curriculum', 'd3', 'education', 'freecodecamp', 'hacktoberfest', 'javascript', 'learn-to-code', 'math', 'nodejs', 'nonprofits', 'programming', 'react', 'teachers']        True          True           True     False       True            False    False        False        False           main\n",
            "1  free-programming-books                                       :books: Freely available programming books  https://github.com/EbookFoundation/free-programming-books  2013-10-11T06:50:37Z  2023-09-21T11:09:25Z  https://ebookfoundation.github.io/free-programming-books/   17087  298393  57194      46    298393         NaN     CC-BY-4.0                                                                                                                                                     ['books', 'education', 'hacktoberfest', 'list', 'resource']        True         False           True     False       True            False    False        False        False           main\n",
            "2                 awesome                            😎 Awesome lists about all kinds of interesting topics                    https://github.com/sindresorhus/awesome  2014-07-11T13:42:37Z  2023-09-21T11:18:22Z                                                        NaN    1441  269997  26485      61    269997         NaN       CC0-1.0                                                                                                                                                   ['awesome', 'awesome-list', 'lists', 'resources', 'unicorns']        True         False           True     False       True            False    False        False        False           main\n",
            "\n",
            "Últimas 3 filas del dataset:\n",
            "                                                  Name                                Description                                                                          URL            Created At            Updated At Homepage   Size  Stars  Forks  Issues  Watchers    Language  License Topics  Has Issues  Has Projects  Has Downloads  Has Wiki  Has Pages  Has Discussions  Is Fork  Is Archived  Is Template Default Branch\n",
            "215026  egghead-angularjs-from-scratch-getting-started                                        NaN  https://github.com/eggheadio/egghead-angularjs-from-scratch-getting-started  2014-08-04T12:56:15Z  2022-03-13T19:20:21Z      NaN     81    167    221       2       167  JavaScript      NaN     []        True          True           True      True      False            False    False        False        False         master\n",
            "215027                                           Pcode                               Python 3 IDE                                          https://github.com/fortharris/Pcode  2013-07-29T08:55:29Z  2022-12-15T13:11:25Z      NaN  15617    167     24       4       167      Python  GPL-3.0     []        True          True           True      True      False            False    False        False        False         master\n",
            "215028                                     react-hooks  Fire off actions in stateless components.                                            https://github.com/tj/react-hooks  2016-09-19T23:26:58Z  2023-09-01T07:10:16Z      NaN      3    167      9       3       167  JavaScript      MIT     []        True          True           True      True      False            False    False        False        False         master\n",
            "\n",
            "3 filas aleatorias:\n",
            "                     Name                                                                                                                                                         Description                                          URL            Created At            Updated At                 Homepage    Size  Stars  Forks  Issues  Watchers Language      License                                                                                                                                                      Topics  Has Issues  Has Projects  Has Downloads  Has Wiki  Has Pages  Has Discussions  Is Fork  Is Archived  Is Template Default Branch\n",
            "189014             Comrad          A socialist network: encrypted, insurveillable, unmontizeable, and self-governing. App is written in Python. (Calling all socialist programmers for help!)          https://github.com/ComradOrg/Comrad  2020-08-03T06:56:38Z  2023-09-16T21:36:39Z       https://comrad.app   63079    195      5      24       195   Python  NOASSERTION  ['encryption', 'kivy', 'mobile-app', 'python', 'social-network', 'socialism', 'socialist-network', 'surveillance-capitalism', 'surveillance-state', 'tor']        True          True           True      True      False            False    False        False        False         master\n",
            "167723        MagiskGapps  MagiskGApps is a modification of NikGApps that can be flashed in Magisk. It is built using a script that converts the NikGApps package into a MagiskGApps Package.     https://github.com/wacko1805/MagiskGapps  2021-01-02T12:42:25Z  2023-09-24T17:31:01Z  https://MagiskGApps.com  757466    225     31       9       225    Shell      GPL-3.0                                                                                             ['android', 'gapps', 'google', 'magisk', 'magiskgapps', 'root']        True          True           True      True      False            False    False        False        False        creator\n",
            "32247   opentechsummit.eu                                                                                                                     OpenTechSummit Europe https://opentechsummit.eu  https://github.com/OpnTec/opentechsummit.eu  2016-11-25T11:14:54Z  2023-09-23T08:21:59Z                      NaN  522073   1370     10       5      1370     Less          NaN                                                                                                                                                          []        True         False           True      True       True            False    False        False        False       gh-pages\n"
          ]
        }
      ]
    },
    {
      "cell_type": "code",
      "source": [
        "# ============================================================================\n",
        "# CELDA 9: RESUMEN DE PROBLEMAS ENCONTRADOS\n",
        "# ============================================================================\n",
        "print(\"RESUMEN DE PROBLEMAS DETECTADOS\")\n",
        "print(\"=\"*40)\n",
        "\n",
        "problemas_encontrados = []\n",
        "\n",
        "# Recopilar problemas encontrados\n",
        "if total_nulos > 0:\n",
        "    problemas_encontrados.append(f\"• {total_nulos:,} valores nulos ({(total_nulos / (df.shape[0] * df.shape[1]) * 100):.2f}%)\")\n",
        "\n",
        "if nombres_duplicados:\n",
        "    problemas_encontrados.append(f\"• {len(nombres_duplicados)} columnas con nombres duplicados\")\n",
        "\n",
        "if columnas_similares:\n",
        "    problemas_encontrados.append(f\"• {len(columnas_similares)} pares de columnas con contenido idéntico\")\n",
        "\n",
        "# Verificar tipos inconsistentes\n",
        "tipos_inconsistentes = 0\n",
        "for col in numericas_candidatas:\n",
        "    if col in df.columns and df[col].dtype == 'object':\n",
        "        tipos_inconsistentes += 1\n",
        "\n",
        "for col in fechas_candidatas:\n",
        "    if col in df.columns and df[col].dtype == 'object':\n",
        "        tipos_inconsistentes += 1\n",
        "\n",
        "if tipos_inconsistentes > 0:\n",
        "    problemas_encontrados.append(f\"• {tipos_inconsistentes} columnas con tipos de datos inconsistentes\")\n",
        "\n",
        "# Mostrar resumen\n",
        "if problemas_encontrados:\n",
        "    print(\"Problemas detectados que requieren limpieza:\")\n",
        "    for problema in problemas_encontrados:\n",
        "        print(f\"  {problema}\")\n",
        "else:\n",
        "    print(\"No se detectaron problemas graves en los datos\")\n",
        "\n",
        "print(f\"\\nDataset listo para el siguiente paso del proceso ETL\")\n",
        "print(f\"Recomendación: Proceder con la limpieza de datos\")"
      ],
      "metadata": {
        "colab": {
          "base_uri": "https://localhost:8080/"
        },
        "id": "Forv9EIFw_7G",
        "outputId": "b3a6a863-77fd-49e1-dab0-3a32036fb5ac"
      },
      "execution_count": 46,
      "outputs": [
        {
          "output_type": "stream",
          "name": "stdout",
          "text": [
            "RESUMEN DE PROBLEMAS DETECTADOS\n",
            "========================================\n",
            "Problemas detectados que requieren limpieza:\n",
            "  • 213,788 valores nulos (4.14%)\n",
            "  • 1 pares de columnas con contenido idéntico\n",
            "  • 2 columnas con tipos de datos inconsistentes\n",
            "\n",
            "Dataset listo para el siguiente paso del proceso ETL\n",
            "Recomendación: Proceder con la limpieza de datos\n"
          ]
        }
      ]
    },
    {
      "cell_type": "markdown",
      "source": [
        "# **Transformación**"
      ],
      "metadata": {
        "id": "D_o_DA_Fxcyu"
      }
    },
    {
      "cell_type": "code",
      "source": [
        "# CELDA 1: PREPARAR DATASET PARA TRANSFORMACIÓN\n",
        "# ============================================================================\n",
        "# Crear copia para transformar (no alterar original)\n",
        "\n",
        "df_transform = df.copy()\n",
        "\n",
        "print(\"PREPARACIÓN PARA TRANSFORMACIÓN\")\n",
        "print(f\"Dataset original: {df.shape}\")\n",
        "print(f\"Copia para transformar: {df_transform.shape}\")\n",
        "print(\"Lista de transformaciones a aplicar basada en problemas detectados\")"
      ],
      "metadata": {
        "colab": {
          "base_uri": "https://localhost:8080/"
        },
        "id": "kLLU41Vexg_0",
        "outputId": "847cd318-e210-47c5-f0ca-a18f50b8569b"
      },
      "execution_count": 49,
      "outputs": [
        {
          "output_type": "stream",
          "name": "stdout",
          "text": [
            "PREPARACIÓN PARA TRANSFORMACIÓN\n",
            "Dataset original: (215029, 24)\n",
            "Copia para transformar: (215029, 24)\n",
            "Lista de transformaciones a aplicar basada en problemas detectados\n"
          ]
        }
      ]
    },
    {
      "cell_type": "code",
      "source": [
        "# ============================================================================\n",
        "# CELDA 2: LIMPIAR DUPLICADOS\n",
        "# ============================================================================\n",
        "print(\"PASO 1: LIMPIEZA DE DUPLICADOS\")\n",
        "print(\"=\"*40)\n",
        "\n",
        "# Contar duplicados antes\n",
        "duplicados_antes = df_transform.duplicated().sum()\n",
        "registros_antes = len(df_transform)\n",
        "\n",
        "print(f\"Duplicados encontrados: {duplicados_antes:,}\")\n",
        "\n",
        "# Eliminar duplicados\n",
        "df_transform = df_transform.drop_duplicates()\n",
        "\n",
        "# Contar después\n",
        "registros_despues = len(df_transform)\n",
        "eliminados = registros_antes - registros_despues\n",
        "\n",
        "print(f\"Registros antes: {registros_antes:,}\")\n",
        "print(f\"Registros después: {registros_despues:,}\")\n",
        "print(f\"Duplicados eliminados: {eliminados:,}\")"
      ],
      "metadata": {
        "colab": {
          "base_uri": "https://localhost:8080/"
        },
        "id": "S8NR3e5pxs0N",
        "outputId": "5708b78d-0174-490c-f122-0f04eeb0f724"
      },
      "execution_count": 51,
      "outputs": [
        {
          "output_type": "stream",
          "name": "stdout",
          "text": [
            "PASO 1: LIMPIEZA DE DUPLICADOS\n",
            "========================================\n",
            "Duplicados encontrados: 0\n",
            "Registros antes: 215,029\n",
            "Registros después: 215,029\n",
            "Duplicados eliminados: 0\n"
          ]
        }
      ]
    },
    {
      "cell_type": "code",
      "source": [
        "# ============================================================================\n",
        "# CELDA 3: LIMPIAR VALORES NULOS - ESTRATEGIA POR COLUMNA\n",
        "# ============================================================================\n",
        "print(\"PASO 2: LIMPIEZA DE VALORES NULOS\")\n",
        "print(\"=\"*40)\n",
        "\n",
        "# Mostrar nulos antes\n",
        "nulos_antes = df_transform.isnull().sum()\n",
        "print(\"Valores nulos por columna ANTES:\")\n",
        "for col in df_transform.columns:\n",
        "    nulos = nulos_antes[col]\n",
        "    if nulos > 0:\n",
        "        porcentaje = (nulos / len(df_transform)) * 100\n",
        "        print(f\"  {col}: {nulos:,} ({porcentaje:.2f}%)\")\n",
        "\n",
        "print(\"\\nAplicando estrategias de limpieza...\")"
      ],
      "metadata": {
        "colab": {
          "base_uri": "https://localhost:8080/"
        },
        "id": "2hOjaufQyNUo",
        "outputId": "4c8769b3-7710-4a2e-a417-2a09ae711d94"
      },
      "execution_count": 52,
      "outputs": [
        {
          "output_type": "stream",
          "name": "stdout",
          "text": [
            "PASO 2: LIMPIEZA DE VALORES NULOS\n",
            "========================================\n",
            "Valores nulos por columna ANTES:\n",
            "  Name: 2 (0.00%)\n",
            "  Description: 8,032 (3.74%)\n",
            "  Homepage: 136,639 (63.54%)\n",
            "  Language: 16,076 (7.48%)\n",
            "  License: 53,039 (24.67%)\n",
            "\n",
            "Aplicando estrategias de limpieza...\n"
          ]
        }
      ]
    },
    {
      "cell_type": "code",
      "source": [
        "# Estrategia 1: Columnas críticas - eliminar filas sin estos datos\n",
        "columnas_criticas = ['Name']\n",
        "for col in columnas_criticas:\n",
        "    if col in df_transform.columns:\n",
        "        antes_critico = len(df_transform)\n",
        "        df_transform = df_transform.dropna(subset=[col])\n",
        "        despues_critico = len(df_transform)\n",
        "        eliminados_critico = antes_critico - despues_critico\n",
        "        print(f\"  - {col}: eliminadas {eliminados_critico:,} filas sin este campo crítico\")\n"
      ],
      "metadata": {
        "colab": {
          "base_uri": "https://localhost:8080/"
        },
        "id": "ed3OAGm6yQHm",
        "outputId": "531fff43-9c8e-435f-90e9-e3cbb0d0cab9"
      },
      "execution_count": 53,
      "outputs": [
        {
          "output_type": "stream",
          "name": "stdout",
          "text": [
            "  - Name: eliminadas 2 filas sin este campo crítico\n"
          ]
        }
      ]
    },
    {
      "cell_type": "code",
      "source": [
        "# Estrategia 2: Columnas numéricas - rellenar con 0\n",
        "columnas_numericas = ['Size', 'Stars', 'Forks', 'Issues', 'Watchers']\n",
        "for col in columnas_numericas:\n",
        "    if col in df_transform.columns:\n",
        "        nulos_col = df_transform[col].isnull().sum()\n",
        "        if nulos_col > 0:\n",
        "            df_transform[col] = df_transform[col].fillna(0)\n",
        "            print(f\"  - {col}: {nulos_col:,} nulos → 0\")"
      ],
      "metadata": {
        "id": "jqWBj8wnyUy2"
      },
      "execution_count": 54,
      "outputs": []
    },
    {
      "cell_type": "code",
      "source": [
        "# Estrategia 3: Columnas categóricas - rellenar con 'Unknown'\n",
        "columnas_categoricas = ['Language', 'License', 'Default Branch']\n",
        "for col in columnas_categoricas:\n",
        "    if col in df_transform.columns:\n",
        "        nulos_col = df_transform[col].isnull().sum()\n",
        "        if nulos_col > 0:\n",
        "            df_transform[col] = df_transform[col].fillna('Unknown')\n",
        "            print(f\"  - {col}: {nulos_col:,} nulos → 'Unknown'\")"
      ],
      "metadata": {
        "colab": {
          "base_uri": "https://localhost:8080/"
        },
        "id": "xaQ3n3FTyXDX",
        "outputId": "bb96be92-8edd-4018-9a06-a756a72fd9d1"
      },
      "execution_count": 56,
      "outputs": [
        {
          "output_type": "stream",
          "name": "stdout",
          "text": [
            "  - Language: 16,076 nulos → 'Unknown'\n",
            "  - License: 53,039 nulos → 'Unknown'\n"
          ]
        }
      ]
    },
    {
      "cell_type": "code",
      "source": [
        "# Estrategia 4: Columnas de texto - rellenar con cadena vacía\n",
        "columnas_texto = ['Description', 'Homepage']\n",
        "for col in columnas_texto:\n",
        "    if col in df_transform.columns:\n",
        "        nulos_col = df_transform[col].isnull().sum()\n",
        "        if nulos_col > 0:\n",
        "            df_transform[col] = df_transform[col].fillna('')\n",
        "            print(f\"  - {col}: {nulos_col:,} nulos → ''\")\n"
      ],
      "metadata": {
        "colab": {
          "base_uri": "https://localhost:8080/"
        },
        "id": "X06efXpwyck9",
        "outputId": "f35f20d7-44bb-4672-f231-fece7e202008"
      },
      "execution_count": 57,
      "outputs": [
        {
          "output_type": "stream",
          "name": "stdout",
          "text": [
            "  - Description: 8,032 nulos → ''\n",
            "  - Homepage: 136,637 nulos → ''\n"
          ]
        }
      ]
    },
    {
      "cell_type": "code",
      "source": [
        "# Estrategia 5: Columnas booleanas - rellenar con False\n",
        "columnas_booleanas = ['Has Issues', 'Has Projects', 'Has Downloads', 'Has Wiki',\n",
        "                     'Has Pages', 'Has Discussions', 'Is Fork', 'Is Archived', 'Is Template']\n",
        "for col in columnas_booleanas:\n",
        "    if col in df_transform.columns:\n",
        "        nulos_col = df_transform[col].isnull().sum()\n",
        "        if nulos_col > 0:\n",
        "            df_transform[col] = df_transform[col].fillna(False)\n",
        "            print(f\"  - {col}: {nulos_col:,} nulos → False\")\n"
      ],
      "metadata": {
        "id": "DrXBiZ3Wyhal"
      },
      "execution_count": 58,
      "outputs": []
    },
    {
      "cell_type": "code",
      "source": [
        "# Verificar nulos después\n",
        "nulos_despues = df_transform.isnull().sum().sum()\n",
        "print(f\"\\nTotal nulos DESPUÉS: {nulos_despues:,}\")"
      ],
      "metadata": {
        "colab": {
          "base_uri": "https://localhost:8080/"
        },
        "id": "5hgHt_lxykEn",
        "outputId": "993e70c4-f881-43ae-fdec-a4943cef246d"
      },
      "execution_count": 59,
      "outputs": [
        {
          "output_type": "stream",
          "name": "stdout",
          "text": [
            "\n",
            "Total nulos DESPUÉS: 0\n"
          ]
        }
      ]
    },
    {
      "cell_type": "code",
      "source": [
        "# ============================================================================\n",
        "# REPORTE COMPARATIVO DE NULOS (ANTES vs DESPUÉS)\n",
        "# ============================================================================\n",
        "print(\"REPORTE DE VALORES NULOS (ANTES vs DESPUÉS)\")\n",
        "print(\"=\"*60)\n",
        "\n",
        "# Calcular nulos antes y después\n",
        "nulos_antes = df.isnull().sum()\n",
        "nulos_despues = df_transform.isnull().sum()\n",
        "\n",
        "# Total de registros\n",
        "total_filas = len(df_transform)\n",
        "\n",
        "# Reporte por columna\n",
        "for columna in df.columns:\n",
        "    antes = nulos_antes[columna]\n",
        "    despues = nulos_despues[columna]\n",
        "\n",
        "    porc_antes = (antes / len(df)) * 100\n",
        "    porc_despues = (despues / total_filas) * 100\n",
        "\n",
        "    estado = \"✅ Limpio\" if despues == 0 else \"⚠️ Aún con nulos\"\n",
        "\n",
        "    print(f\"{columna:<20} | \"\n",
        "          f\"Antes: {antes:>6,} ({porc_antes:5.2f}%) | \"\n",
        "          f\"Después: {despues:>6,} ({porc_despues:5.2f}%) | \"\n",
        "          f\"{estado}\")\n",
        "\n",
        "# Resumen total\n",
        "print(\"\\nResumen global:\")\n",
        "print(f\"Total nulos ANTES: {nulos_antes.sum():,}\")\n",
        "print(f\"Total nulos DESPUÉS: {nulos_despues.sum():,}\")\n"
      ],
      "metadata": {
        "colab": {
          "base_uri": "https://localhost:8080/"
        },
        "id": "liy8XlPIzJ3Q",
        "outputId": "9b8002e5-6d86-41ea-9d05-13ab6f0266b4"
      },
      "execution_count": 62,
      "outputs": [
        {
          "output_type": "stream",
          "name": "stdout",
          "text": [
            "REPORTE DE VALORES NULOS (ANTES vs DESPUÉS)\n",
            "============================================================\n",
            "Name                 | Antes:      2 ( 0.00%) | Después:      0 ( 0.00%) | ✅ Limpio\n",
            "Description          | Antes:  8,032 ( 3.74%) | Después:      0 ( 0.00%) | ✅ Limpio\n",
            "URL                  | Antes:      0 ( 0.00%) | Después:      0 ( 0.00%) | ✅ Limpio\n",
            "Created At           | Antes:      0 ( 0.00%) | Después:      0 ( 0.00%) | ✅ Limpio\n",
            "Updated At           | Antes:      0 ( 0.00%) | Después:      0 ( 0.00%) | ✅ Limpio\n",
            "Homepage             | Antes: 136,639 (63.54%) | Después:      0 ( 0.00%) | ✅ Limpio\n",
            "Size                 | Antes:      0 ( 0.00%) | Después:      0 ( 0.00%) | ✅ Limpio\n",
            "Stars                | Antes:      0 ( 0.00%) | Después:      0 ( 0.00%) | ✅ Limpio\n",
            "Forks                | Antes:      0 ( 0.00%) | Después:      0 ( 0.00%) | ✅ Limpio\n",
            "Issues               | Antes:      0 ( 0.00%) | Después:      0 ( 0.00%) | ✅ Limpio\n",
            "Watchers             | Antes:      0 ( 0.00%) | Después:      0 ( 0.00%) | ✅ Limpio\n",
            "Language             | Antes: 16,076 ( 7.48%) | Después:      0 ( 0.00%) | ✅ Limpio\n",
            "License              | Antes: 53,039 (24.67%) | Después:      0 ( 0.00%) | ✅ Limpio\n",
            "Topics               | Antes:      0 ( 0.00%) | Después:      0 ( 0.00%) | ✅ Limpio\n",
            "Has Issues           | Antes:      0 ( 0.00%) | Después:      0 ( 0.00%) | ✅ Limpio\n",
            "Has Projects         | Antes:      0 ( 0.00%) | Después:      0 ( 0.00%) | ✅ Limpio\n",
            "Has Downloads        | Antes:      0 ( 0.00%) | Después:      0 ( 0.00%) | ✅ Limpio\n",
            "Has Wiki             | Antes:      0 ( 0.00%) | Después:      0 ( 0.00%) | ✅ Limpio\n",
            "Has Pages            | Antes:      0 ( 0.00%) | Después:      0 ( 0.00%) | ✅ Limpio\n",
            "Has Discussions      | Antes:      0 ( 0.00%) | Después:      0 ( 0.00%) | ✅ Limpio\n",
            "Is Fork              | Antes:      0 ( 0.00%) | Después:      0 ( 0.00%) | ✅ Limpio\n",
            "Is Archived          | Antes:      0 ( 0.00%) | Después:      0 ( 0.00%) | ✅ Limpio\n",
            "Is Template          | Antes:      0 ( 0.00%) | Después:      0 ( 0.00%) | ✅ Limpio\n",
            "Default Branch       | Antes:      0 ( 0.00%) | Después:      0 ( 0.00%) | ✅ Limpio\n",
            "\n",
            "Resumen global:\n",
            "Total nulos ANTES: 213,788\n",
            "Total nulos DESPUÉS: 0\n"
          ]
        }
      ]
    },
    {
      "cell_type": "code",
      "source": [
        "# ============================================================================\n",
        "# CELDA 4: CONVERTIR TIPOS DE DATOS\n",
        "# ============================================================================\n",
        "print(\"PASO 3: CONVERSIÓN DE TIPOS DE DATOS\")\n",
        "print(\"=\"*40)\n",
        "\n",
        "print(\"Convirtiendo tipos de datos según detección de problemas...\")\n",
        "\n",
        "# Convertir fechas de texto a datetime\n",
        "columnas_fechas = ['Created At', 'Updated At']\n",
        "for col in columnas_fechas:\n",
        "    if col in df_transform.columns:\n",
        "        print(f\"Convirtiendo {col} a datetime...\")\n",
        "        try:\n",
        "            df_transform[col] = pd.to_datetime(df_transform[col], errors='coerce')\n",
        "            print(f\"  ✓ {col} convertido exitosamente\")\n",
        "        except Exception as e:\n",
        "            print(f\"  ✗ Error convirtiendo {col}: {e}\")\n"
      ],
      "metadata": {
        "colab": {
          "base_uri": "https://localhost:8080/"
        },
        "id": "o65syL3-zPgv",
        "outputId": "a1d98bfd-9d3b-4d81-a6f7-1006862d63b1"
      },
      "execution_count": 63,
      "outputs": [
        {
          "output_type": "stream",
          "name": "stdout",
          "text": [
            "PASO 3: CONVERSIÓN DE TIPOS DE DATOS\n",
            "========================================\n",
            "Convirtiendo tipos de datos según detección de problemas...\n",
            "Convirtiendo Created At a datetime...\n",
            "  ✓ Created At convertido exitosamente\n",
            "Convirtiendo Updated At a datetime...\n",
            "  ✓ Updated At convertido exitosamente\n"
          ]
        }
      ]
    },
    {
      "cell_type": "code",
      "source": [
        "# Convertir numéricas (ya deberían estar bien, pero por seguridad)\n",
        "for col in columnas_numericas:\n",
        "    if col in df_transform.columns:\n",
        "        tipo_actual = df_transform[col].dtype\n",
        "        if tipo_actual == 'object':\n",
        "            print(f\"Convirtiendo {col} a numérico...\")\n",
        "            try:\n",
        "                df_transform[col] = pd.to_numeric(df_transform[col], errors='coerce')\n",
        "                df_transform[col] = df_transform[col].fillna(0)  # Por si hay errores\n",
        "                print(f\"  ✓ {col} convertido de {tipo_actual} a numérico\")\n",
        "            except Exception as e:\n",
        "                print(f\"  ✗ Error convirtiendo {col}: {e}\")"
      ],
      "metadata": {
        "id": "VhM-1sgezW0v"
      },
      "execution_count": 64,
      "outputs": []
    },
    {
      "cell_type": "code",
      "source": [
        "# Convertir booleanas\n",
        "for col in columnas_booleanas:\n",
        "    if col in df_transform.columns:\n",
        "        tipo_actual = df_transform[col].dtype\n",
        "        if tipo_actual == 'object':\n",
        "            print(f\"Convirtiendo {col} a booleano...\")\n",
        "            try:\n",
        "                # Mapear diferentes valores a booleanos\n",
        "                df_transform[col] = df_transform[col].astype(str).str.lower()\n",
        "                mapeo_booleano = {\n",
        "                    'true': True, 'false': False,\n",
        "                    '1': True, '0': False,\n",
        "                    'yes': True, 'no': False,\n",
        "                    'nan': False, '': False\n",
        "                }\n",
        "                df_transform[col] = df_transform[col].map(mapeo_booleano).fillna(False)\n",
        "                print(f\"  ✓ {col} convertido a booleano\")\n",
        "            except Exception as e:\n",
        "                print(f\"  ✗ Error convirtiendo {col}: {e}\")\n"
      ],
      "metadata": {
        "id": "HHuSgy5ezX3m"
      },
      "execution_count": 65,
      "outputs": []
    },
    {
      "cell_type": "code",
      "source": [
        "# Mostrar tipos finales\n",
        "print(f\"\\nTipos de datos DESPUÉS de conversión:\")\n",
        "for col in df_transform.columns:\n",
        "    print(f\"  {col}: {df_transform[col].dtype}\")\n"
      ],
      "metadata": {
        "colab": {
          "base_uri": "https://localhost:8080/"
        },
        "id": "drXkvlUszeSt",
        "outputId": "b4d39533-9bc3-4ae3-b49c-0cbdf8390ebf"
      },
      "execution_count": 66,
      "outputs": [
        {
          "output_type": "stream",
          "name": "stdout",
          "text": [
            "\n",
            "Tipos de datos DESPUÉS de conversión:\n",
            "  Name: object\n",
            "  Description: object\n",
            "  URL: object\n",
            "  Created At: datetime64[ns, UTC]\n",
            "  Updated At: datetime64[ns, UTC]\n",
            "  Homepage: object\n",
            "  Size: int64\n",
            "  Stars: int64\n",
            "  Forks: int64\n",
            "  Issues: int64\n",
            "  Watchers: int64\n",
            "  Language: object\n",
            "  License: object\n",
            "  Topics: object\n",
            "  Has Issues: bool\n",
            "  Has Projects: bool\n",
            "  Has Downloads: bool\n",
            "  Has Wiki: bool\n",
            "  Has Pages: bool\n",
            "  Has Discussions: bool\n",
            "  Is Fork: bool\n",
            "  Is Archived: bool\n",
            "  Is Template: bool\n",
            "  Default Branch: object\n"
          ]
        }
      ]
    },
    {
      "cell_type": "code",
      "source": [
        "# ============================================================================\n",
        "# REPORTE COMPARATIVO DE TIPOS DE DATOS (ANTES vs DESPUÉS)\n",
        "# ============================================================================\n",
        "print(\"REPORTE DE TIPOS DE DATOS (ANTES vs DESPUÉS)\")\n",
        "print(\"=\"*60)\n",
        "\n",
        "# Guardar tipos antes y después (como string para evitar error de formato)\n",
        "tipos_antes = df.dtypes.astype(str)\n",
        "tipos_despues = df_transform.dtypes.astype(str)\n",
        "\n",
        "# Recorrer columnas y comparar\n",
        "for col in df_transform.columns:\n",
        "    tipo_antes = tipos_antes[col] if col in tipos_antes else \"No existía\"\n",
        "    tipo_despues = tipos_despues[col]\n",
        "\n",
        "    estado = \"✅ Convertido\" if tipo_antes != tipo_despues else \"➖ Sin cambio\"\n",
        "\n",
        "    print(f\"{col:<20} | Antes: {tipo_antes:<15} | Después: {tipo_despues:<15} | {estado}\")\n",
        "\n"
      ],
      "metadata": {
        "colab": {
          "base_uri": "https://localhost:8080/"
        },
        "id": "ISFNrwyxzq7_",
        "outputId": "23fbcd52-99be-4d96-ddfb-a22a087c9a74"
      },
      "execution_count": 68,
      "outputs": [
        {
          "output_type": "stream",
          "name": "stdout",
          "text": [
            "REPORTE DE TIPOS DE DATOS (ANTES vs DESPUÉS)\n",
            "============================================================\n",
            "Name                 | Antes: object          | Después: object          | ➖ Sin cambio\n",
            "Description          | Antes: object          | Después: object          | ➖ Sin cambio\n",
            "URL                  | Antes: object          | Después: object          | ➖ Sin cambio\n",
            "Created At           | Antes: object          | Después: datetime64[ns, UTC] | ✅ Convertido\n",
            "Updated At           | Antes: object          | Después: datetime64[ns, UTC] | ✅ Convertido\n",
            "Homepage             | Antes: object          | Después: object          | ➖ Sin cambio\n",
            "Size                 | Antes: int64           | Después: int64           | ➖ Sin cambio\n",
            "Stars                | Antes: int64           | Después: int64           | ➖ Sin cambio\n",
            "Forks                | Antes: int64           | Después: int64           | ➖ Sin cambio\n",
            "Issues               | Antes: int64           | Después: int64           | ➖ Sin cambio\n",
            "Watchers             | Antes: int64           | Después: int64           | ➖ Sin cambio\n",
            "Language             | Antes: object          | Después: object          | ➖ Sin cambio\n",
            "License              | Antes: object          | Después: object          | ➖ Sin cambio\n",
            "Topics               | Antes: object          | Después: object          | ➖ Sin cambio\n",
            "Has Issues           | Antes: bool            | Después: bool            | ➖ Sin cambio\n",
            "Has Projects         | Antes: bool            | Después: bool            | ➖ Sin cambio\n",
            "Has Downloads        | Antes: bool            | Después: bool            | ➖ Sin cambio\n",
            "Has Wiki             | Antes: bool            | Después: bool            | ➖ Sin cambio\n",
            "Has Pages            | Antes: bool            | Después: bool            | ➖ Sin cambio\n",
            "Has Discussions      | Antes: bool            | Después: bool            | ➖ Sin cambio\n",
            "Is Fork              | Antes: bool            | Después: bool            | ➖ Sin cambio\n",
            "Is Archived          | Antes: bool            | Después: bool            | ➖ Sin cambio\n",
            "Is Template          | Antes: bool            | Después: bool            | ➖ Sin cambio\n",
            "Default Branch       | Antes: object          | Después: object          | ➖ Sin cambio\n"
          ]
        }
      ]
    },
    {
      "cell_type": "code",
      "source": [
        "# ============================================================================\n",
        "# CELDA 5: LIMPIAR Y NORMALIZAR TEXTO\n",
        "# ============================================================================\n",
        "print(\"PASO 4: LIMPIEZA Y NORMALIZACIÓN DE TEXTO\")\n",
        "print(\"=\"*40)\n",
        "\n",
        "# Limpiar columnas de texto\n",
        "columnas_para_limpiar = ['Name', 'Description', 'Language', 'License']\n",
        "\n",
        "for col in columnas_para_limpiar:\n",
        "    if col in df_transform.columns:\n",
        "        print(f\"Limpiando texto en {col}...\")\n",
        "\n",
        "        # Convertir a string y limpiar\n",
        "        df_transform[col] = df_transform[col].astype(str)\n",
        "\n",
        "        # Eliminar espacios extra al inicio y final\n",
        "        df_transform[col] = df_transform[col].str.strip()\n",
        "\n",
        "        # Reemplazar múltiples espacios con uno solo\n",
        "        df_transform[col] = df_transform[col].str.replace(r'\\s+', ' ', regex=True)\n",
        "\n",
        "        # Manejar casos especiales\n",
        "        if col == 'Language':\n",
        "            # Normalizar nombres de lenguajes\n",
        "            df_transform[col] = df_transform[col].str.title()\n",
        "            # Casos especiales conocidos\n",
        "            reemplazos_lenguaje = {\n",
        "                'Javascript': 'JavaScript',\n",
        "                'Typescript': 'TypeScript',\n",
        "                'C++': 'C++',  # Mantener\n",
        "                'C#': 'C#',    # Mantener\n",
        "                'Nan': 'Unknown'\n",
        "            }\n",
        "            df_transform[col] = df_transform[col].replace(reemplazos_lenguaje)\n",
        "\n",
        "        print(f\"  ✓ {col} limpiado\")"
      ],
      "metadata": {
        "colab": {
          "base_uri": "https://localhost:8080/"
        },
        "id": "raZXcoTs0FF3",
        "outputId": "277d9ebf-7a2e-4c99-bda3-08414066a573"
      },
      "execution_count": 69,
      "outputs": [
        {
          "output_type": "stream",
          "name": "stdout",
          "text": [
            "PASO 4: LIMPIEZA Y NORMALIZACIÓN DE TEXTO\n",
            "========================================\n",
            "Limpiando texto en Name...\n",
            "  ✓ Name limpiado\n",
            "Limpiando texto en Description...\n",
            "  ✓ Description limpiado\n",
            "Limpiando texto en Language...\n",
            "  ✓ Language limpiado\n",
            "Limpiando texto en License...\n",
            "  ✓ License limpiado\n"
          ]
        }
      ]
    },
    {
      "cell_type": "code",
      "source": [
        "# Limpiar URLs\n",
        "if 'URL' in df_transform.columns:\n",
        "    print(\"Validando URLs...\")\n",
        "    def es_url_valida(url):\n",
        "        if pd.isna(url) or url == '':\n",
        "            return False\n",
        "        return bool(re.match(r'^https?://', str(url)))\n",
        "\n",
        "    urls_validas_antes = df_transform['URL'].apply(es_url_valida).sum()\n",
        "    print(f\"  URLs válidas encontradas: {urls_validas_antes:,}\")"
      ],
      "metadata": {
        "colab": {
          "base_uri": "https://localhost:8080/"
        },
        "id": "hPIANKkv0Gr_",
        "outputId": "d72b9dbb-4a9d-4f61-b8be-3a39afc65bf3"
      },
      "execution_count": 70,
      "outputs": [
        {
          "output_type": "stream",
          "name": "stdout",
          "text": [
            "Validando URLs...\n",
            "  URLs válidas encontradas: 215,027\n"
          ]
        }
      ]
    },
    {
      "cell_type": "code",
      "source": [
        "# ============================================================================\n",
        "# CELDA 6: CREAR NUEVAS VARIABLES DERIVADAS\n",
        "# ============================================================================\n",
        "print(\"PASO 5: CREACIÓN DE VARIABLES DERIVADAS\")\n",
        "print(\"=\"*40)\n",
        "\n",
        "print(\"Creando nuevas variables basadas en datos existentes...\")\n",
        "\n",
        "# Variables de fecha\n",
        "if 'Created At' in df_transform.columns:\n",
        "    try:\n",
        "        df_transform['Created_Year'] = df_transform['Created At'].dt.year\n",
        "        df_transform['Created_Month'] = df_transform['Created At'].dt.month\n",
        "        df_transform['Created_DayOfWeek'] = df_transform['Created At'].dt.dayofweek\n",
        "\n",
        "        # Calcular edad del repositorio\n",
        "        df_transform['Age_Days'] = (datetime.now() - df_transform['Created At']).dt.days\n",
        "        df_transform['Age_Years'] = df_transform['Age_Days'] / 365.25\n",
        "\n",
        "        print(\"  ✓ Variables de fecha creadas: Created_Year, Created_Month, Age_Years\")\n",
        "    except Exception as e:\n",
        "        print(f\"  ✗ Error creando variables de fecha: {e}\")\n",
        "\n",
        "if 'Updated At' in df_transform.columns:\n",
        "    try:\n",
        "        df_transform['Updated_Year'] = df_transform['Updated At'].dt.year\n",
        "        df_transform['Days_Since_Update'] = (datetime.now() - df_transform['Updated At']).dt.days\n",
        "        print(\"  ✓ Variables de actualización creadas\")\n",
        "    except Exception as e:\n",
        "        print(f\"  ✗ Error creando variables de actualización: {e}\")"
      ],
      "metadata": {
        "colab": {
          "base_uri": "https://localhost:8080/"
        },
        "id": "cGLd1YMS0JhW",
        "outputId": "47c0091b-30c8-4615-f740-7528723c728e"
      },
      "execution_count": 81,
      "outputs": [
        {
          "output_type": "stream",
          "name": "stdout",
          "text": [
            "PASO 5: CREACIÓN DE VARIABLES DERIVADAS\n",
            "========================================\n",
            "Creando nuevas variables basadas en datos existentes...\n",
            "  ✓ Variables de fecha creadas: Created_Year, Created_Month, Age_Years\n",
            "  ✓ Variables de actualización creadas\n"
          ]
        }
      ]
    },
    {
      "cell_type": "markdown",
      "source": [
        "Salio un error en tema de zona horaria, significa que una de tus columnas (Created At o Updated At) es timezone-aware (tiene información de zona horaria, por ejemplo 2024-09-20 12:30:00+00:00) y la otra con la que restas (datetime.now()) es timezone-naive (sin zona horaria)."
      ],
      "metadata": {
        "id": "qv__fAoV1cXR"
      }
    },
    {
      "cell_type": "code",
      "source": [
        "df_transform['Created At'] = df_transform['Created At'].dt.tz_localize(None)\n",
        "df_transform['Updated At'] = df_transform['Updated At'].dt.tz_localize(None)\n"
      ],
      "metadata": {
        "id": "3caX_9yK10QH"
      },
      "execution_count": 82,
      "outputs": []
    },
    {
      "cell_type": "markdown",
      "source": [
        "Esto sirve para enriquecer el dataset y facilitar el análisis exploratorio, modelado o reportes."
      ],
      "metadata": {
        "id": "7dwlAcTr2GG5"
      }
    },
    {
      "cell_type": "code",
      "source": [
        "# Variables de popularidad\n",
        "if all(col in df_transform.columns for col in ['Stars', 'Forks', 'Watchers']):\n",
        "    try:\n",
        "        # Índice de popularidad ponderado\n",
        "        df_transform['Popularity_Score'] = (\n",
        "            df_transform['Stars'] * 0.5 +\n",
        "            df_transform['Forks'] * 0.3 +\n",
        "            df_transform['Watchers'] * 0.2\n",
        "        )\n",
        "\n",
        "        # Ratios de engagement\n",
        "        df_transform['Fork_Rate'] = df_transform['Forks'] / (df_transform['Stars'] + 1)\n",
        "        df_transform['Watch_Rate'] = df_transform['Watchers'] / (df_transform['Stars'] + 1)\n",
        "\n",
        "        print(\"  ✓ Variables de popularidad creadas: Popularity_Score, Fork_Rate, Watch_Rate\")\n",
        "    except Exception as e:\n",
        "        print(f\"  ✗ Error creando variables de popularidad: {e}\")"
      ],
      "metadata": {
        "colab": {
          "base_uri": "https://localhost:8080/"
        },
        "id": "WY4UoG_F0PEG",
        "outputId": "4d69baf0-e56e-4114-b84e-093f27ce005b"
      },
      "execution_count": 72,
      "outputs": [
        {
          "output_type": "stream",
          "name": "stdout",
          "text": [
            "  ✓ Variables de popularidad creadas: Popularity_Score, Fork_Rate, Watch_Rate\n"
          ]
        }
      ]
    },
    {
      "cell_type": "markdown",
      "source": [
        "¿Para qué te sirve todo esto?\n",
        "\n",
        "- Comparación relativa: Dos repos pueden tener 500 estrellas, pero uno con Fork_Rate alto significa que es mucho más usado.\n",
        "\n",
        "- Ranking interno: Puedes ordenar repos por Popularity_Score y ver cuáles son realmente más influyentes.\n",
        "\n",
        "- Análisis de engagement: Sirve para detectar repos con comunidades activas aunque no tengan tantas estrellas."
      ],
      "metadata": {
        "id": "dMIUPHGC2UuA"
      }
    },
    {
      "cell_type": "code",
      "source": [
        "\n",
        "# Categorías derivadas\n",
        "if 'Stars' in df_transform.columns:\n",
        "    try:\n",
        "        df_transform['Popularity_Level'] = pd.cut(\n",
        "            df_transform['Stars'],\n",
        "            bins=[0, 100, 1000, 10000, float('inf')],\n",
        "            labels=['Low', 'Medium', 'High', 'Viral'],\n",
        "            include_lowest=True\n",
        "        )\n",
        "        print(\"  ✓ Categoría Popularity_Level creada\")\n",
        "    except Exception as e:\n",
        "        print(f\"  ✗ Error creando Popularity_Level: {e}\")\n",
        "\n",
        "if 'Age_Years' in df_transform.columns:\n",
        "    try:\n",
        "        df_transform['Project_Maturity'] = pd.cut(\n",
        "            df_transform['Age_Years'],\n",
        "            bins=[0, 1, 3, 5, float('inf')],\n",
        "            labels=['New', 'Young', 'Mature', 'Legacy'],\n",
        "            include_lowest=True\n",
        "        )\n",
        "        print(\"  ✓ Categoría Project_Maturity creada\")\n",
        "    except Exception as e:\n",
        "        print(f\"  ✗ Error creando Project_Maturity: {e}\")\n"
      ],
      "metadata": {
        "colab": {
          "base_uri": "https://localhost:8080/"
        },
        "id": "1p3msTVM0i3Q",
        "outputId": "639e308b-ef78-49ec-d841-52e9e424ab8a"
      },
      "execution_count": 73,
      "outputs": [
        {
          "output_type": "stream",
          "name": "stdout",
          "text": [
            "  ✓ Categoría Popularity_Level creada\n"
          ]
        }
      ]
    },
    {
      "cell_type": "markdown",
      "source": [
        "Estas categorías hacen que los datos sean más interpretables y fáciles de usar en:\n",
        "\n",
        "- Dashboards (ej. contar cuántos repos son New + High Popularity).\n",
        "\n",
        "- Análisis cruzado (ej. ver si los repos Viral suelen ser Legacy o New).\n",
        "\n",
        "- Modelado predictivo (puedes usar estas categorías como variables en modelos de ML)."
      ],
      "metadata": {
        "id": "d2evBcel28_I"
      }
    },
    {
      "cell_type": "code",
      "source": [
        "# Agrupar lenguajes menos comunes\n",
        "if 'Language' in df_transform.columns:\n",
        "    try:\n",
        "        top_languages = df_transform['Language'].value_counts().head(15).index\n",
        "        df_transform['Language_Group'] = df_transform['Language'].apply(\n",
        "            lambda x: x if x in top_languages else 'Other'\n",
        "        )\n",
        "        print(\"  ✓ Language_Group creada (Top 15 + Other)\")\n",
        "    except Exception as e:\n",
        "        print(f\"  ✗ Error creando Language_Group: {e}\")"
      ],
      "metadata": {
        "colab": {
          "base_uri": "https://localhost:8080/"
        },
        "id": "0kY5jQW70mjj",
        "outputId": "3e95ae35-4ebf-41e7-b63c-e976f2c0f43e"
      },
      "execution_count": 74,
      "outputs": [
        {
          "output_type": "stream",
          "name": "stdout",
          "text": [
            "  ✓ Language_Group creada (Top 15 + Other)\n"
          ]
        }
      ]
    },
    {
      "cell_type": "markdown",
      "source": [
        "¿Para qué sirve?\n",
        "\n",
        "* Simplificar análisis:\n",
        "Si tienes 200 lenguajes distintos, muchos con muy pocos repos, es difícil analizarlos. Con esto, reduces la dimensionalidad a 16 categorías (15 + Other).\n",
        "\n",
        "* Mejorar visualizaciones:\n",
        "\n",
        "En gráficos de barras/pasteles, evitas tener cientos de categorías pequeñas que no se entienden.\n",
        "\n",
        "Queda más claro el panorama (“Top 15 lenguajes representan el 80% de los repos”).\n",
        "\n",
        "* Preparación para ML:\n",
        "\n",
        "Modelos de Machine Learning funcionan mejor con categorías limitadas.\n",
        "\n",
        "Evita que se creen miles de columnas dummy si aplicas one-hot encoding.\n",
        "\n",
        "* Identificar concentración:\n",
        "\n",
        "Puedes ver si realmente unos pocos lenguajes dominan el ecosistema.\n",
        "\n",
        "Ejemplo: “El 70% de los repos están en Python, JS, y Java. El resto se reparte entre ‘Other’”.\n",
        "\n",
        "\n"
      ],
      "metadata": {
        "id": "6dkfPOMp3I_s"
      }
    },
    {
      "cell_type": "code",
      "source": [
        "# ============================================================================\n",
        "# CELDA 7: NORMALIZAR Y ESTANDARIZAR DATOS NUMÉRICOS\n",
        "# ============================================================================\n",
        "print(\"PASO 6: NORMALIZACIÓN DE DATOS NUMÉRICOS\")\n",
        "print(\"=\"*40)\n",
        "\n",
        "from sklearn.preprocessing import StandardScaler, MinMaxScaler\n",
        "\n",
        "print(\"Aplicando normalización a variables numéricas...\")\n",
        "\n",
        "# Variables para normalizar (métricas de repositorio)\n",
        "variables_normalizar = ['Stars', 'Forks', 'Issues', 'Watchers', 'Size']\n",
        "\n",
        "# Crear versiones normalizadas (0-1) y estandarizadas (media=0, std=1)\n",
        "scaler_minmax = MinMaxScaler()\n",
        "scaler_standard = StandardScaler()\n",
        "\n",
        "for col in variables_normalizar:\n",
        "    if col in df_transform.columns:\n",
        "        try:\n",
        "            # Normalización Min-Max (0-1)\n",
        "            valores_normalized = scaler_minmax.fit_transform(df_transform[[col]])\n",
        "            df_transform[f'{col}_Normalized'] = valores_normalized.flatten()\n",
        "\n",
        "            # Estandarización Z-score\n",
        "            valores_standardized = scaler_standard.fit_transform(df_transform[[col]])\n",
        "            df_transform[f'{col}_Standardized'] = valores_standardized.flatten()\n",
        "\n",
        "            print(f\"  ✓ {col}: creadas versiones Normalized y Standardized\")\n",
        "\n",
        "        except Exception as e:\n",
        "            print(f\"  ✗ Error normalizando {col}: {e}\")"
      ],
      "metadata": {
        "colab": {
          "base_uri": "https://localhost:8080/"
        },
        "id": "djSLJM2K0sUh",
        "outputId": "d3cc5ee2-2f28-4e18-90fe-e1778af82dfe"
      },
      "execution_count": 75,
      "outputs": [
        {
          "output_type": "stream",
          "name": "stdout",
          "text": [
            "PASO 6: NORMALIZACIÓN DE DATOS NUMÉRICOS\n",
            "========================================\n",
            "Aplicando normalización a variables numéricas...\n",
            "  ✓ Stars: creadas versiones Normalized y Standardized\n",
            "  ✓ Forks: creadas versiones Normalized y Standardized\n",
            "  ✓ Issues: creadas versiones Normalized y Standardized\n",
            "  ✓ Watchers: creadas versiones Normalized y Standardized\n",
            "  ✓ Size: creadas versiones Normalized y Standardized\n"
          ]
        }
      ]
    },
    {
      "cell_type": "markdown",
      "source": [
        "¿Para qué sirve esto?\n",
        "\n",
        "* Comparabilidad de variables\n",
        "\n",
        "Sin normalizar, una columna como Stars (0-100000) dominaría a otra como Issues (0-200) en un modelo.\n",
        "\n",
        "Después de normalizar, todas están en la misma escala.\n",
        "\n",
        "* Preparación para Machine Learning\n",
        "\n",
        "Muchos algoritmos (KNN, SVM, regresión logística, clustering con K-Means) funcionan mal si las escalas son muy diferentes.\n",
        "\n",
        "Con esto, evitas que una sola variable sesgue los resultados.\n",
        "\n",
        "* Detección de outliers más clara\n",
        "\n",
        "Con los z-scores (Standardized), puedes detectar valores que están a más de ±3 desviaciones de la media → outliers.\n",
        "\n",
        "* Análisis exploratorio más equilibrado\n",
        "\n",
        "Si graficas distribuciones normalizadas, ves relaciones entre métricas sin que una eclipse a las demás."
      ],
      "metadata": {
        "id": "tqgIxC4B3emr"
      }
    },
    {
      "cell_type": "code",
      "source": [
        "# Crear categorías basadas en percentiles\n",
        "print(\"\\nCreando categorías basadas en percentiles...\")\n",
        "for col in ['Stars', 'Forks']:\n",
        "    if col in df_transform.columns:\n",
        "        try:\n",
        "            df_transform[f'{col}_Quartile'] = pd.qcut(\n",
        "                df_transform[col],\n",
        "                q=4,\n",
        "                labels=['Q1', 'Q2', 'Q3', 'Q4'],\n",
        "                duplicates='drop'\n",
        "            )\n",
        "            print(f\"  ✓ {col}_Quartile creada\")\n",
        "        except Exception as e:\n",
        "            print(f\"  ✗ Error creando quartiles para {col}: {e}\")"
      ],
      "metadata": {
        "colab": {
          "base_uri": "https://localhost:8080/"
        },
        "id": "u2QjmCa-0tsp",
        "outputId": "b4ed2b06-ba27-4a01-a92e-9a79d94467be"
      },
      "execution_count": 76,
      "outputs": [
        {
          "output_type": "stream",
          "name": "stdout",
          "text": [
            "\n",
            "Creando categorías basadas en percentiles...\n",
            "  ✓ Stars_Quartile creada\n",
            "  ✓ Forks_Quartile creada\n"
          ]
        }
      ]
    },
    {
      "cell_type": "markdown",
      "source": [
        "¿Para qué sirve?\n",
        "\n",
        "* Comparar categorías en vez de valores crudos\n",
        "\n",
        "En lugar de trabajar con \"un repo tiene 2000 estrellas\", lo conviertes a \"ese repo está en el Q3 de popularidad\".\n",
        "\n",
        "* Facilita análisis comparativos.\n",
        "\n",
        "Segmentación\n",
        "\n",
        "Puedes analizar comportamiento de repos poco populares vs muy populares.\n",
        "\n",
        "Útil en dashboards o reportes.\n",
        "\n",
        "* Equilibrar distribuciones sesgadas\n",
        "\n",
        "Datos como Stars suelen estar muy sesgados (pocos repos con muchísimas estrellas, muchos con pocas).\n",
        "\n",
        "Al usar percentiles, creas grupos más balanceados.\n",
        "\n",
        "* Preparación para modelos categóricos\n",
        "\n",
        "Algunos algoritmos trabajan mejor con categorías que con valores continuos.\n",
        "\n",
        "Ejemplo: Árboles de decisión."
      ],
      "metadata": {
        "id": "zZZQRPSf34pE"
      }
    },
    {
      "cell_type": "code",
      "source": [
        "# ============================================================================\n",
        "# CELDA 8: VALIDAR TRANSFORMACIONES APLICADAS\n",
        "# ============================================================================\n",
        "print(\"PASO 7: VALIDACIÓN DE TRANSFORMACIONES\")\n",
        "print(\"=\"*40)\n",
        "\n",
        "print(\"Validando calidad de datos después de transformaciones...\")\n",
        "\n",
        "# Comparar antes y después\n",
        "print(f\"COMPARACIÓN ANTES/DESPUÉS:\")\n",
        "print(f\"  Registros: {df.shape[0]:,} → {df_transform.shape[0]:,}\")\n",
        "print(f\"  Columnas: {df.shape[1]} → {df_transform.shape[1]}\")\n",
        "print(f\"  Nuevas columnas: {df_transform.shape[1] - df.shape[1]}\")"
      ],
      "metadata": {
        "colab": {
          "base_uri": "https://localhost:8080/"
        },
        "id": "W_oFg0jt4efZ",
        "outputId": "6adeeb29-81eb-46af-9fc1-d3a42b53414d"
      },
      "execution_count": 84,
      "outputs": [
        {
          "output_type": "stream",
          "name": "stdout",
          "text": [
            "PASO 7: VALIDACIÓN DE TRANSFORMACIONES\n",
            "========================================\n",
            "Validando calidad de datos después de transformaciones...\n",
            "COMPARACIÓN ANTES/DESPUÉS:\n",
            "  Registros: 215,029 → 215,027\n",
            "  Columnas: 24 → 48\n",
            "  Nuevas columnas: 24\n"
          ]
        }
      ]
    },
    {
      "cell_type": "markdown",
      "source": [
        "Recomendación práctica\n",
        "\n",
        "Después de cada gran bloque de transformaciones, revisa:"
      ],
      "metadata": {
        "id": "XF1BEaLT44WH"
      }
    },
    {
      "cell_type": "code",
      "source": [
        "# Validar calidad\n",
        "nulos_finales = df_transform.isnull().sum().sum()\n",
        "duplicados_finales = df_transform.duplicated().sum()\n",
        "\n",
        "print(f\"\\nCALIDAD FINAL:\")\n",
        "print(f\"  Valores nulos: {nulos_finales:,}\")\n",
        "print(f\"  Duplicados: {duplicados_finales:,}\")"
      ],
      "metadata": {
        "colab": {
          "base_uri": "https://localhost:8080/"
        },
        "id": "_YYD5Csq4_In",
        "outputId": "4533e8eb-810f-47f8-f158-edab5d3b5489"
      },
      "execution_count": 87,
      "outputs": [
        {
          "output_type": "stream",
          "name": "stdout",
          "text": [
            "\n",
            "CALIDAD FINAL:\n",
            "  Valores nulos: 0\n",
            "  Duplicados: 0\n"
          ]
        }
      ]
    },
    {
      "cell_type": "code",
      "source": [
        "# Mostrar tipos de datos finales\n",
        "print(f\"\\nTIPOS DE DATOS FINALES:\")\n",
        "tipos_finales = df_transform.dtypes.value_counts()\n",
        "for tipo, cantidad in tipos_finales.items():\n",
        "    print(f\"  {str(tipo)}: {cantidad} columnas\")\n"
      ],
      "metadata": {
        "colab": {
          "base_uri": "https://localhost:8080/"
        },
        "id": "6sBFcbch5H-K",
        "outputId": "3fca2c3d-d827-4478-cb8c-dbcc0588ebeb"
      },
      "execution_count": 88,
      "outputs": [
        {
          "output_type": "stream",
          "name": "stdout",
          "text": [
            "\n",
            "TIPOS DE DATOS FINALES:\n",
            "  float64: 14 columnas\n",
            "  object: 9 columnas\n",
            "  bool: 9 columnas\n",
            "  int64: 7 columnas\n",
            "  int32: 4 columnas\n",
            "  datetime64[ns]: 2 columnas\n",
            "  category: 2 columnas\n",
            "  category: 1 columnas\n"
          ]
        }
      ]
    },
    {
      "cell_type": "code",
      "source": [
        "# Mostrar muestra de nuevas variables\n",
        "print(f\"\\nMUESTRA DE VARIABLES CREADAS:\")\n",
        "nuevas_columnas = [col for col in df_transform.columns if col not in df.columns]\n",
        "if nuevas_columnas:\n",
        "    print(f\"Nuevas columnas ({len(nuevas_columnas)}):\")\n",
        "    for col in nuevas_columnas[:10]:  # Mostrar solo las primeras 10\n",
        "        print(f\"  - {col}\")\n",
        "\n",
        "    # Mostrar estadísticas de algunas variables nuevas\n",
        "    if 'Popularity_Score' in df_transform.columns:\n",
        "        print(f\"\\nEstadísticas Popularity_Score:\")\n",
        "        print(df_transform['Popularity_Score'].describe())\n",
        "\n",
        "print(f\"\\n✓ TRANSFORMACIÓN COMPLETADA\")\n",
        "print(f\"Dataset transformado disponible en variable 'df_transform'\")\n"
      ],
      "metadata": {
        "colab": {
          "base_uri": "https://localhost:8080/"
        },
        "id": "EKQu6F2v5NuC",
        "outputId": "18140baf-ff65-4b87-f7dc-2eea807e23f6"
      },
      "execution_count": 89,
      "outputs": [
        {
          "output_type": "stream",
          "name": "stdout",
          "text": [
            "\n",
            "MUESTRA DE VARIABLES CREADAS:\n",
            "Nuevas columnas (24):\n",
            "  - Created_Year\n",
            "  - Created_Month\n",
            "  - Created_DayOfWeek\n",
            "  - Updated_Year\n",
            "  - Popularity_Score\n",
            "  - Fork_Rate\n",
            "  - Watch_Rate\n",
            "  - Popularity_Level\n",
            "  - Language_Group\n",
            "  - Stars_Normalized\n",
            "\n",
            "Estadísticas Popularity_Score:\n",
            "count    215027.000000\n",
            "mean        850.812977\n",
            "std        3027.255707\n",
            "min         116.900000\n",
            "25%         184.600000\n",
            "50%         293.300000\n",
            "75%         613.000000\n",
            "max      271931.500000\n",
            "Name: Popularity_Score, dtype: float64\n",
            "\n",
            "✓ TRANSFORMACIÓN COMPLETADA\n",
            "Dataset transformado disponible en variable 'df_transform'\n"
          ]
        }
      ]
    },
    {
      "cell_type": "markdown",
      "source": [
        "## ***CARGA***"
      ],
      "metadata": {
        "id": "w-34GsnP8L2K"
      }
    },
    {
      "cell_type": "code",
      "source": [
        "# ============================================================================\n",
        "# CELDA 9: PREPARAR PARA CARGA (LOAD)\n",
        "# ============================================================================\n",
        "print(\"PASO 8: PREPARACIÓN PARA CARGA\")\n",
        "print(\"=\"*40)\n",
        "\n",
        "# Optimizar tipos de datos para almacenamiento\n",
        "print(\"Optimizando tipos de datos para almacenamiento...\")\n",
        "# Convertir categóricas con pocos valores únicos a 'category'\n",
        "columnas_category = ['Language_Group', 'License', 'Default Branch', 'Popularity_Level', 'Project_Maturity']\n",
        "for col in columnas_category:\n",
        "    if col in df_transform.columns:\n",
        "        try:\n",
        "            unique_count = df_transform[col].nunique()\n",
        "            if unique_count < 50:  # Solo si tiene menos de 50 valores únicos\n",
        "                df_transform[col] = df_transform[col].astype('category')\n",
        "                print(f\"  ✓ {col} convertido a category ({unique_count} valores únicos)\")\n",
        "        except Exception as e:\n",
        "            print(f\"  ✗ Error convirtiendo {col} a category: {e}\")\n",
        "            # Verificar tamaño final\n",
        "tamaño_final = df_transform.memory_usage(deep=True).sum() / 1024**2\n",
        "print(f\"\\nTamaño final del dataset: {tamaño_final:.2f} MB\")"
      ],
      "metadata": {
        "colab": {
          "base_uri": "https://localhost:8080/"
        },
        "id": "BGWokXYZ5QVy",
        "outputId": "0b6ca98c-f57e-4208-aab6-58e65583d256"
      },
      "execution_count": 91,
      "outputs": [
        {
          "output_type": "stream",
          "name": "stdout",
          "text": [
            "PASO 8: PREPARACIÓN PARA CARGA\n",
            "========================================\n",
            "Optimizando tipos de datos para almacenamiento...\n",
            "  ✓ Language_Group convertido a category (16 valores únicos)\n",
            "  ✓ License convertido a category (46 valores únicos)\n",
            "  ✓ Popularity_Level convertido a category (3 valores únicos)\n",
            "\n",
            "Tamaño final del dataset: 164.20 MB\n"
          ]
        }
      ]
    },
    {
      "cell_type": "code",
      "source": [
        "# Crear timestamp para archivo\n",
        "timestamp = datetime.now().strftime(\"%Y%m%d_%H%M%S\")\n",
        "nombre_archivo = f'github_repos_transformed_{timestamp}.csv'\n",
        "print(f\"Dataset listo para guardar como: {nombre_archivo}\")\n",
        "print(f\"\\n✓ TRANSFORMACIÓN COMPLETA - Listo para LOAD\")"
      ],
      "metadata": {
        "colab": {
          "base_uri": "https://localhost:8080/"
        },
        "id": "OQP1n9pe5UiB",
        "outputId": "065f15a7-fae1-4fc4-fa92-ce901c1e62d3"
      },
      "execution_count": 93,
      "outputs": [
        {
          "output_type": "stream",
          "name": "stdout",
          "text": [
            "Dataset listo para guardar como: github_repos_transformed_20250921_013241.csv\n",
            "\n",
            "✓ TRANSFORMACIÓN COMPLETA - Listo para LOAD\n"
          ]
        }
      ]
    },
    {
      "cell_type": "markdown",
      "source": [
        "¿Para qué sirve?\n",
        "\n",
        "- Evitar sobreescribir archivos anteriores:\n",
        "Cada ejecución guarda un archivo nuevo con timestamp.\n",
        "\n",
        "- Tener control de versiones:\n",
        "Puedes ver qué dataset se generó en cada corrida y cuándo.\n",
        "\n",
        "- Trazabilidad:\n",
        "Si haces pruebas en distintos momentos, puedes saber qué dataset corresponde a qué momento de transformación."
      ],
      "metadata": {
        "id": "CRP7V9Vv5mvF"
      }
    },
    {
      "cell_type": "code",
      "source": [
        "# Resumen de transformaciones aplicadas\n",
        "print(f\"\\nRESUMEN DE TRANSFORMACIONES APLICADAS:\")\n",
        "print(f\"1. ✓ Eliminados duplicados\")\n",
        "print(f\"2. ✓ Limpiados valores nulos con estrategias específicas\")\n",
        "print(f\"3. ✓ Convertidos tipos de datos (fechas, números, booleanos)\")\n",
        "print(f\"4. ✓ Normalizado y limpiado texto\")\n",
        "print(f\"5. ✓ Creadas ~15 variables derivadas\")\n",
        "print(f\"6. ✓ Aplicada normalización a variables numéricas\")\n",
        "print(f\"7. ✓ Optimizados tipos para almacenamiento\")\n",
        "print(f\"8. ✓ Validada calidad final\")\n"
      ],
      "metadata": {
        "colab": {
          "base_uri": "https://localhost:8080/"
        },
        "id": "N87xJI6R5qXB",
        "outputId": "ad8ea40a-9373-4a35-efb9-a771cf33a8ce"
      },
      "execution_count": 94,
      "outputs": [
        {
          "output_type": "stream",
          "name": "stdout",
          "text": [
            "\n",
            "RESUMEN DE TRANSFORMACIONES APLICADAS:\n",
            "1. ✓ Eliminados duplicados\n",
            "2. ✓ Limpiados valores nulos con estrategias específicas\n",
            "3. ✓ Convertidos tipos de datos (fechas, números, booleanos)\n",
            "4. ✓ Normalizado y limpiado texto\n",
            "5. ✓ Creadas ~15 variables derivadas\n",
            "6. ✓ Aplicada normalización a variables numéricas\n",
            "7. ✓ Optimizados tipos para almacenamiento\n",
            "8. ✓ Validada calidad final\n"
          ]
        }
      ]
    },
    {
      "cell_type": "code",
      "source": [
        "# Crear timestamp para no sobrescribir\n",
        "timestamp = datetime.now().strftime(\"%Y%m%d_%H%M%S\")\n",
        "nombre_archivo = f'github_repos_transformed_{timestamp}.csv'\n",
        "\n",
        "# Guardar el DataFrame en CSV\n",
        "df_transform.to_csv(nombre_archivo, index=False)\n",
        "\n",
        "print(f\"✅ Archivo guardado como: {nombre_archivo}\")"
      ],
      "metadata": {
        "colab": {
          "base_uri": "https://localhost:8080/"
        },
        "id": "azZk9_TO6IHI",
        "outputId": "0da4c6f4-c01f-4a78-e3bb-3c1f65da33ef"
      },
      "execution_count": 95,
      "outputs": [
        {
          "output_type": "stream",
          "name": "stdout",
          "text": [
            "✅ Archivo guardado como: github_repos_transformed_20250921_013432.csv\n"
          ]
        }
      ]
    },
    {
      "cell_type": "markdown",
      "source": [
        "# 📊 Resumen del Proceso ETL\n",
        "\n",
        "---\n",
        "\n",
        "## ✅ EXTRACCIÓN\n",
        "- Se leyó el archivo **`repositories.csv`**.\n",
        "- Se confirmó la cantidad de filas y columnas originales.\n",
        "- **Resultado**: No hubo pérdida de datos en la extracción.\n",
        "\n",
        "---\n",
        "\n",
        "## ✅ TRANSFORMACIÓN\n",
        "\n",
        "### Conversión de tipos de datos\n",
        "- `Created At`, `Updated At` → convertidos a **datetime**.\n",
        "- Columnas numéricas → convertidas a **float/int**.\n",
        "- Columnas booleanas → mapeadas correctamente.\n",
        "- Valores nulos tratados con **`fillna`**.\n",
        "\n",
        "### Creación de nuevas variables\n",
        "- **De fechas**: `Age_Days`, `Age_Years`, `Days_Since_Update`, `Created_Year`, etc.\n",
        "- **De popularidad**: `Popularity_Score`, `Fork_Rate`, `Watch_Rate`.\n",
        "- **Clasificación de proyectos**:\n",
        "  - `Popularity_Level` (Low, Medium, High, Viral).\n",
        "  - `Project_Maturity` (New, Young, Mature, Legacy).\n",
        "- **Lenguajes**: agrupación de lenguajes poco comunes en **Other**.\n",
        "- **Normalización y estandarización**:\n",
        "  - Ej: `Stars_Normalized`, `Stars_Standardized`.\n",
        "- **Percentiles**:\n",
        "  - `Stars_Quartile`, `Forks_Quartile`.\n",
        "\n",
        "👉 Esto incrementó el número de columnas de **24 → 48**.\n",
        "\n",
        "---\n",
        "\n",
        "## ✅ VALIDACIÓN DE CALIDAD\n",
        "- **Valores nulos**: reducidos a casi 0.\n",
        "- **Duplicados**: muy bajo (solo 2 registros eliminados).\n",
        "- **Tipos de datos finales**: consistentes (`int`, `float`, `datetime`, `bool`, `category`).\n",
        "\n",
        "---\n",
        "\n",
        "## ✅ CARGA\n",
        "- Dataset limpio y enriquecido guardado como:\n",
        "  - **`github_repos_transformed_YYYYMMDD_HHMMSS.csv`**\n",
        "- Se añadió un **timestamp** al nombre → buena práctica de versionado.\n",
        "- Se evitó crear columna de índice extra (`index=False`).\n",
        "\n",
        "---\n",
        "\n",
        "## 🚀 Estado Final\n",
        "- Dataset transformado disponible en variable **`df_transform`**.\n",
        "- Listo para **EDA** (Exploratory Data Analysis).\n"
      ],
      "metadata": {
        "id": "FsaTVKWQ7CIb"
      }
    },
    {
      "cell_type": "markdown",
      "source": [
        "# **Conclusión**:\n",
        "\n",
        "El proceso ETL se realizó de forma correcta. Se extrajeron los datos completos, se transformaron con limpieza, conversión de tipos, eliminación de duplicados y creación de nuevas métricas, lo que enriqueció el dataset pasando de 24 a 48 columnas. Finalmente, se cargó el archivo limpio en formato CSV con control de versiones mediante timestamp. El resultado es un dataset consistente y preparado para análisis exploratorio o modelado posterior."
      ],
      "metadata": {
        "id": "j6oIePzz8wwY"
      }
    }
  ]
}